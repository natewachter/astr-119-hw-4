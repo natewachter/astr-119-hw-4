{
 "cells": [
  {
   "cell_type": "code",
   "execution_count": null,
   "metadata": {},
   "outputs": [],
   "source": [
    "%matplotlib inline\n",
    "import numpy as np\n",
    "import matplotlib.pyplot as plt"
   ]
  },
  {
   "cell_type": "markdown",
   "metadata": {},
   "source": [
    "## Define the function to find roots for"
   ]
  },
  {
   "cell_type": "code",
   "execution_count": null,
   "metadata": {},
   "outputs": [],
   "source": [
    "def function_for_roots(x):\n",
    "    a = 1.01\n",
    "    b = -3.04\n",
    "    c = 2.07\n",
    "    return a*x**2 + b*x + c    # return quadratic function"
   ]
  },
  {
   "cell_type": "markdown",
   "metadata": {},
   "source": [
    "## Define a function to check initial bracketing values"
   ]
  },
  {
   "cell_type": "code",
   "execution_count": null,
   "metadata": {},
   "outputs": [],
   "source": [
    "def check_initial_values(f, x_min, x_max, tol):\n",
    "    \n",
    "    # check our initial guesses\n",
    "    y_min = f(x_min)\n",
    "    y_max = f(x_max)\n",
    "    \n",
    "    # check that x_min and x_max contain a zero crossing\n",
    "    if(y_min*y_max>0.0):\n",
    "        print(\"No zero crossing found in the range = \",x_min,\"to\",x_max)\n",
    "        s = \"f(%f) = %f, f(%f) = %f\" % (x_min,y_min,x_max,y_max)\n",
    "        print(s)\n",
    "        return 0\n",
    "    \n",
    "    # if x_min is a root return flag = = 1\n",
    "    if(np.fabs(y_min)<tol):\n",
    "        return 1\n",
    "    \n",
    "    # if x_max is a root return flag = = 2\n",
    "    if(np.fabs(y_max)<tol):\n",
    "        return 2\n",
    "    \n",
    "    # if we reach this point, the bracket is valid and\n",
    "    # we will return 3\n",
    "    return 3"
   ]
  },
  {
   "cell_type": "markdown",
   "metadata": {},
   "source": [
    "## Define the iterative search function"
   ]
  },
  {
   "cell_type": "code",
   "execution_count": null,
   "metadata": {},
   "outputs": [],
   "source": [
    "def bisection_root_finding(f, x_min_start, x_max_start, tol):\n",
    "    \n",
    "    # this function uses bisection search to find the root\n",
    "    \n",
    "    x_min = x_min_start      # minimum x within the bracket\n",
    "    x_max = x_max_start      # maximum x within the bracket\n",
    "    x_mid = 0.0              # mid point of bracket\n",
    "    \n",
    "    y_min = f(x_min)         # function value at x_min\n",
    "    y_max = f(x_max)         # function value at x_max\n",
    "    y_mid = 0.0              # function value at midpoint\n",
    "    \n",
    "    imax = 10000             # max number of iterations\n",
    "    i = 0\n",
    "    \n",
    "    # check the intial values\n",
    "    flag = check_initial_values(f,x_min,x_max, tol)\n",
    "\n",
    "    if (flag==0):\n",
    "        print(\"Error in bisection_root_finding\")\n",
    "        raise ValueError('Initial values invalid', x_min, x_max)\n",
    "    elif(flag==1):\n",
    "        # this was a lucky guess\n",
    "        return x_min\n",
    "    elif(flag==2):\n",
    "        # another lucky guess condition\n",
    "        return x_max\n",
    "    \n",
    "    # if we reach here, then we need to conduct the search\n",
    "    \n",
    "    # reset flag for loop\n",
    "    flag = 1\n",
    "    \n",
    "    # enter a while loop\n",
    "    while(flag):\n",
    "\n",
    "        x_mid = 0.5*(x_min + x_max)  # midpoint\n",
    "        y_mid = f(x_mid)   # value of y at midpoint\n",
    "        \n",
    "        # check if x_mid is a root\n",
    "        if(np.fabs(y_mid)<tol):\n",
    "            flag = 0\n",
    "            \n",
    "        else:\n",
    "            # x_mid is not a root\n",
    "            \n",
    "            # if the product of the function at midpoint and at one\n",
    "            # of the end points is greater than zero, replace that endpoint\n",
    "            if(f(x_min)*f(x_mid)>0):\n",
    "                # replace x_min with x_mid\n",
    "                x_min = x_mid\n",
    "            else:\n",
    "                # replace x_max with x_mid\n",
    "                x_max = x_mid\n",
    "        \n",
    "        # print out the iteration\n",
    "        print(x_min, f(x_min),x_max,f(x_max))\n",
    "        \n",
    "        # count the iteration\n",
    "        i += 1\n",
    "        \n",
    "        # if we exceed max iterations, then exit\n",
    "        if(i>=imax):\n",
    "            print(\"Exceeded max number of iterations = \",i)\n",
    "            s = \"Min bracket f(%f) = %15.14e\" % (x_min,f(x_min))\n",
    "            print(s)\n",
    "            s = \"Max bracket f(%f) = %15.14e\" % (x_max,f(x_max))\n",
    "            print(s)\n",
    "            s = \"Mid bracket f(%f) = %15.14e\" % (x_mid,f(x_mid))\n",
    "            print(s)\n",
    "            raise StopIteration('Stopping iterations after ',i)\n",
    "            \n",
    "    # We're done!\n",
    "    return x_mid, i"
   ]
  },
  {
   "cell_type": "markdown",
   "metadata": {},
   "source": [
    "## Perform the search for roots"
   ]
  },
  {
   "cell_type": "code",
   "execution_count": null,
   "metadata": {},
   "outputs": [],
   "source": [
    "x_min = 0.0\n",
    "x_max = 1.5\n",
    "tolerance = 1.0e-6\n",
    "iterations1 = 0\n",
    "iterations2 = 0\n",
    "\n",
    "# Find first root\n",
    "\n",
    "# print the intial guess\n",
    "print(x_min,function_for_roots(x_min))\n",
    "print(x_max,function_for_roots(x_max))\n",
    "print(\"\\n\")\n",
    "\n",
    "# perform search\n",
    "x_root1, loops1 = bisection_root_finding(function_for_roots,x_min,x_max,tolerance)\n",
    "y_root1 = function_for_roots(x_root1)\n",
    "\n",
    "\n",
    "# Find second root\n",
    "\n",
    "# Set bracketing values for second root\n",
    "x2_min = 1.5\n",
    "x2_max = 3.0\n",
    "\n",
    "# print the intial guess\n",
    "print(\"\\n\")\n",
    "print(x2_min,function_for_roots(x2_min))\n",
    "print(x2_max,function_for_roots(x2_max))\n",
    "\n",
    "# perform search\n",
    "x_root2, loops2 = bisection_root_finding(function_for_roots,x2_min,x2_max,tolerance)\n",
    "y_root2 = function_for_roots(x_root2)\n",
    "\n",
    "\n",
    "# Print results\n",
    "print(\"\\n\")\n",
    "s = \"Root found with y(%f) = %f\" % (x_root1,y_root1)\n",
    "print(s)\n",
    "print(\"Iterations to find this root:\",loops1)\n",
    "print(\"\\n\")\n",
    "s = \"Root found with y(%f) = %f\" % (x_root2,y_root2)\n",
    "print(s)\n",
    "print(\"Iterations to find this root:\",loops2)"
   ]
  },
  {
   "cell_type": "markdown",
   "metadata": {},
   "source": [
    "# Plot function, bracketing values, and roots"
   ]
  },
  {
   "cell_type": "code",
   "execution_count": null,
   "metadata": {},
   "outputs": [],
   "source": [
    "xvalues = np.linspace(0,3,1000)             # x values for plots\n",
    "yvalues = function_for_roots(xvalues)       # y values for quadratic\n",
    "\n",
    "horizontal = np.zeros(1000)                 # y values for horizontal line\n",
    "\n",
    "xbrackets = [x_min,x_max,x2_min,x2_max]     # x values of bracket points\n",
    "ybrackets = [0,0,0,0]                       # y values of bracket points\n",
    "\n",
    "rootxvalues = [x_root1, x_root2]            # x values of the roots of quadratic\n",
    "rootyvalues = [0,0]                         # y values of the roots of quadratic\n",
    "\n",
    "f = plt.figure(figsize=(7,7))\n",
    "plt.plot(xvalues,horizontal,label='y = 0',color='black')\n",
    "plt.plot(xvalues,yvalues,'-b',label='Quadratic function')\n",
    "plt.plot(xbrackets,ybrackets, 'ro', label='Initial bracket values')\n",
    "plt.plot(rootxvalues,rootyvalues,'go',label='Roots')\n",
    "plt.axis([0.,3.,-0.5,2.1])\n",
    "plt.xlabel('x')\n",
    "plt.ylabel('y')\n",
    "plt.legend(frameon=True)\n",
    "plt.show()"
   ]
  }
 ],
 "metadata": {
  "kernelspec": {
   "display_name": "Python 3",
   "language": "python",
   "name": "python3"
  },
  "language_info": {
   "codemirror_mode": {
    "name": "ipython",
    "version": 3
   },
   "file_extension": ".py",
   "mimetype": "text/x-python",
   "name": "python",
   "nbconvert_exporter": "python",
   "pygments_lexer": "ipython3",
   "version": "3.8.6"
  }
 },
 "nbformat": 4,
 "nbformat_minor": 4
}
